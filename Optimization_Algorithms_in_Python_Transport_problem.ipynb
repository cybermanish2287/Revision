{
  "nbformat": 4,
  "nbformat_minor": 0,
  "metadata": {
    "colab": {
      "name": "Optimization Algorithms in Python - Transport problem.ipynb",
      "provenance": [],
      "collapsed_sections": [
        "2oS2n5iIJkDf",
        "_oa_mvOZJnM4",
        "4ZOCrXStJpyr",
        "SYLOdc5aJtvv",
        "QxanT6B7JwyT"
      ]
    },
    "kernelspec": {
      "name": "python3",
      "display_name": "Python 3"
    }
  },
  "cells": [
    {
      "cell_type": "markdown",
      "metadata": {
        "id": "VgIr_Sa3I_gb"
      },
      "source": [
        "# Optimization Algorithms in Python - Transport problem"
      ]
    },
    {
      "cell_type": "markdown",
      "metadata": {
        "id": "OPdPd1rTJE4x"
      },
      "source": [
        "## Algorithms"
      ]
    },
    {
      "cell_type": "markdown",
      "metadata": {
        "id": "2oS2n5iIJkDf"
      },
      "source": [
        "### Importing the libraries"
      ]
    },
    {
      "cell_type": "code",
      "metadata": {
        "id": "iMmU5iSeIy15"
      },
      "source": [
        "import time\n",
        "import random\n",
        "import math\n",
        "import sys"
      ],
      "execution_count": null,
      "outputs": []
    },
    {
      "cell_type": "markdown",
      "metadata": {
        "id": "_oa_mvOZJnM4"
      },
      "source": [
        "### Random search"
      ]
    },
    {
      "cell_type": "code",
      "metadata": {
        "id": "IMTfm6jqJRvB"
      },
      "source": [
        "def random_search(domain, fitness_function, maximize = False):\n",
        "  \n",
        "  # Maximization\n",
        "  if maximize == True:\n",
        "    best_cost = 0\n",
        "  # Minimization\n",
        "  else:\n",
        "    best_cost = sys.maxsize\n",
        "  for i in range(1000):\n",
        "    solution = [random.randint(domain[i][0],domain[i][1]) for i in range(len(domain))]\n",
        "    cost = fitness_function(solution)\n",
        "    \n",
        "    # Maximization\n",
        "    if maximize == True:\n",
        "      if cost > best_cost:\n",
        "        best_cost = cost\n",
        "        best_solution = solution\n",
        "    # Minimization\n",
        "    else:\n",
        "      if cost < best_cost:\n",
        "        best_cost = cost\n",
        "        best_solution = solution\n",
        "  return best_solution"
      ],
      "execution_count": null,
      "outputs": []
    },
    {
      "cell_type": "markdown",
      "metadata": {
        "id": "4ZOCrXStJpyr"
      },
      "source": [
        "### Hill climb"
      ]
    },
    {
      "cell_type": "code",
      "metadata": {
        "id": "lbHfbrXfJU9Y"
      },
      "source": [
        "def hill_climb(domain, fitness_function, initial = [], maximize = False):\n",
        "  count = 0\n",
        "  \n",
        "  if len(initial) > 0:\n",
        "    solution = initial\n",
        "  else:\n",
        "    solution = [random.randint(domain[i][0],domain[i][1]) for i in range(len(domain))]\n",
        "  \n",
        "  while True:\n",
        "    neighbors = []\n",
        "    for i in range(len(domain)):\n",
        "      if solution[i] > domain[i][0]:\n",
        "        if solution[i] != domain[i][1]:\n",
        "          neighbors.append(solution[0:i] + [solution[i] + 1] + solution[i + 1:])\n",
        "      if solution[i] < domain[i][1]:\n",
        "        if solution[i] != domain[i][0]:\n",
        "          neighbors.append(solution[0:i] + [solution[i] - 1] + solution[i + 1:])\n",
        "\n",
        "    actual = fitness_function(solution)\n",
        "    best = actual\n",
        "    for i in range(len(neighbors)):\n",
        "      count += 1\n",
        "      cost = fitness_function(neighbors[i])\n",
        "      # Maximization\n",
        "      if maximize == True:\n",
        "        if cost > best:\n",
        "          best = cost\n",
        "          solution = neighbors[i]\n",
        "      # Minimization\n",
        "      else:\n",
        "        if cost < best:\n",
        "          best = cost\n",
        "          solution = neighbors[i]\n",
        "\n",
        "    if best == actual:\n",
        "      print('Count: ', count)\n",
        "      break\n",
        "\n",
        "  return solution"
      ],
      "execution_count": null,
      "outputs": []
    },
    {
      "cell_type": "markdown",
      "metadata": {
        "id": "SYLOdc5aJtvv"
      },
      "source": [
        "### Simulated annealing"
      ]
    },
    {
      "cell_type": "code",
      "metadata": {
        "id": "jlm4Z6YDJZoq"
      },
      "source": [
        "def simulated_anneling(domain, fitness_function, temperature = 50000.0,\n",
        "                       cooling = 0.95, step = 1, initial = [], maximize = False):\n",
        "  count = 0\n",
        "\n",
        "  if len(initial) > 0:\n",
        "    solution = initial\n",
        "  else:\n",
        "    solution = [random.randint(domain[i][0], domain[i][1]) for i in range(len(domain))]\n",
        "   \n",
        "  while temperature > 0.1:\n",
        "    i = random.randint(0, len(domain) - 1)\n",
        "    direction = random.randint(-step, step)\n",
        "    temp_solution = solution[:] \n",
        "    temp_solution[i] += direction\n",
        "    if temp_solution[i] < domain[i][0]:\n",
        "      temp_solution[i] = domain[i][0]\n",
        "    elif temp_solution[i] > domain[i][1]:\n",
        "      temp_solution[i] = domain[i][1]\n",
        "\n",
        "    count += 1\n",
        "    cost_solution = fitness_function(solution)\n",
        "    cost_solution_temp = fitness_function(temp_solution)\n",
        "    probability = pow(math.e, (-cost_solution_temp - cost_solution) / temperature)\n",
        "\n",
        "    # Maximization\n",
        "    if maximize == True:\n",
        "      if (cost_solution_temp > cost_solution or random.random() < probability):\n",
        "        solution = temp_solution\n",
        "    # Minimization\n",
        "    else:\n",
        "      if (cost_solution_temp < cost_solution or random.random() < probability):\n",
        "        solution = temp_solution\n",
        "\n",
        "    temperature = temperature * cooling\n",
        "\n",
        "  print('Count: ', count)\n",
        "  return solution"
      ],
      "execution_count": null,
      "outputs": []
    },
    {
      "cell_type": "markdown",
      "metadata": {
        "id": "QxanT6B7JwyT"
      },
      "source": [
        "### Genetic algorithm"
      ]
    },
    {
      "cell_type": "code",
      "metadata": {
        "id": "PlPCuopPJc6t"
      },
      "source": [
        "def mutation(domain, step, solution):\n",
        "  gene = random.randint(0, len(domain) - 1)\n",
        "  mutant = solution\n",
        "  if random.random() < 0.5:\n",
        "    if solution[gene] != domain[gene][0]:\n",
        "      mutant = solution[0:gene] + [solution[gene] - step] + solution[gene + 1:]\n",
        "  else:\n",
        "    if solution[gene] != domain[gene][1]:\n",
        "      mutant = solution[0:gene] + [solution[gene] + step] + solution[gene + 1:]\n",
        "  return mutant\n",
        "\n",
        "def crossover(domain, solution1, solution2):\n",
        "  gene = random.randint(1, len(domain) - 2)\n",
        "  return solution1[0:gene] + solution2[gene:]\n",
        "\n",
        "def genetic(domain, fitness_function, population_size = 100, step = 1,\n",
        "            probability_mutation = 0.2, elitism = 0.2,\n",
        "            number_generations = 500, search = False, maximize=False):\n",
        "  population = []\n",
        "  for i in range(population_size):\n",
        "    if search == True:\n",
        "      solution = random_search(domain, fitness_function)\n",
        "    else:\n",
        "      solution = [random.randint(domain[i][0], domain[i][1]) for i in range(len(domain))]\n",
        "    \n",
        "    population.append(solution)\n",
        "\n",
        "  number_elitism = int(elitism * population_size)\n",
        "\n",
        "  for i in range(number_generations):\n",
        "    costs = [(fitness_function(individual), individual) for individual in population]\n",
        "    \n",
        "    # Maximization\n",
        "    if maximize == True:\n",
        "      costs.sort(reverse = True)\n",
        "    # Minimization\n",
        "    else:\n",
        "      costs.sort()\n",
        "    \n",
        "    ordered_individuals = [individual for (cost, individual) in costs]\n",
        "    population = ordered_individuals[0:number_elitism]\n",
        "    while len(population) < population_size:\n",
        "      if random.random() < probability_mutation:\n",
        "        m = random.randint(0, number_elitism)\n",
        "        population.append(mutation(domain, step, ordered_individuals[m]))\n",
        "      else:\n",
        "        i1 = random.randint(0, number_elitism)\n",
        "        i2 = random.randint(0, number_elitism)\n",
        "        population.append(crossover(domain, ordered_individuals[i1], ordered_individuals[i2]))\n",
        "  return costs[0][1]"
      ],
      "execution_count": null,
      "outputs": []
    },
    {
      "cell_type": "markdown",
      "metadata": {
        "id": "q2Bxk5iWLNVi"
      },
      "source": [
        "## Domain of the problem"
      ]
    },
    {
      "cell_type": "code",
      "metadata": {
        "id": "Jkv3_zSipK6F"
      },
      "source": [
        "products = [('Refrigerator A', 0.751, 999.90),\n",
        "            ('Cell phone', 0.0000899, 2911.12),\n",
        "            ('TV 55', 0.400, 4346.99),\n",
        "            ('TV 50', 0.290, 3999.90),\n",
        "            ('TV 42', 0.200, 2999.00),\n",
        "            ('Notebook A', 0.00350, 2499.90),\n",
        "            ('Ventilator', 0.496, 199.90),\n",
        "            ('Microwave A', 0.0424, 308.66),\n",
        "            ('Microwave B', 0.0544, 429.90),\n",
        "            ('Microwave C', 0.0319, 299.29),\n",
        "            ('Refrigerator B', 0.635, 849.00),\n",
        "            ('Refrigerator C', 0.870, 1199.89),\n",
        "            ('Notebook B', 0.498, 1999.90),\n",
        "            ('Notebook C', 0.527, 3999.00)]"
      ],
      "execution_count": null,
      "outputs": []
    },
    {
      "cell_type": "code",
      "metadata": {
        "id": "JxgZredIpylt",
        "colab": {
          "base_uri": "https://localhost:8080/",
          "height": 55
        },
        "outputId": "3f4b81dd-96cc-4209-c77c-d48e46ba32e8"
      },
      "source": [
        "products[13]"
      ],
      "execution_count": null,
      "outputs": [
        {
          "output_type": "execute_result",
          "data": {
            "text/plain": [
              "('Notebook C', 0.527, 3999.0)"
            ]
          },
          "metadata": {
            "tags": []
          },
          "execution_count": 8
        }
      ]
    },
    {
      "cell_type": "code",
      "metadata": {
        "id": "K9dX6nc8p60R",
        "colab": {
          "base_uri": "https://localhost:8080/",
          "height": 55
        },
        "outputId": "3323c2f6-13d9-4f3e-c726-5b2401521d6a"
      },
      "source": [
        "products[0][0], products[0][1], products[0][2]"
      ],
      "execution_count": null,
      "outputs": [
        {
          "output_type": "execute_result",
          "data": {
            "text/plain": [
              "('Refrigerator A', 0.751, 999.9)"
            ]
          },
          "metadata": {
            "tags": []
          },
          "execution_count": 11
        }
      ]
    },
    {
      "cell_type": "code",
      "metadata": {
        "id": "Q6jIsZ2lqTcQ"
      },
      "source": [
        "available_space = 3"
      ],
      "execution_count": null,
      "outputs": []
    },
    {
      "cell_type": "code",
      "metadata": {
        "id": "fpMOU-XUqjLH"
      },
      "source": [
        "# [0, 1, 1, 1, 1, 1, 0, 1, 1, 0, 1, 0, 1, 1]"
      ],
      "execution_count": null,
      "outputs": []
    },
    {
      "cell_type": "code",
      "metadata": {
        "id": "1u4QSGafrFUZ",
        "colab": {
          "base_uri": "https://localhost:8080/",
          "height": 284
        },
        "outputId": "2958567c-7ad0-433f-f9e1-6fa475aba7ef"
      },
      "source": [
        "domain = [(0, 1)] * len(products)\n",
        "domain"
      ],
      "execution_count": null,
      "outputs": [
        {
          "output_type": "execute_result",
          "data": {
            "text/plain": [
              "[(0, 1),\n",
              " (0, 1),\n",
              " (0, 1),\n",
              " (0, 1),\n",
              " (0, 1),\n",
              " (0, 1),\n",
              " (0, 1),\n",
              " (0, 1),\n",
              " (0, 1),\n",
              " (0, 1),\n",
              " (0, 1),\n",
              " (0, 1),\n",
              " (0, 1),\n",
              " (0, 1)]"
            ]
          },
          "metadata": {
            "tags": []
          },
          "execution_count": 13
        }
      ]
    },
    {
      "cell_type": "markdown",
      "metadata": {
        "id": "ozbUziwXVkA_"
      },
      "source": [
        "\n",
        "### Printing the solution"
      ]
    },
    {
      "cell_type": "code",
      "metadata": {
        "id": "hdiXEk_hrX8P"
      },
      "source": [
        "# [0, 1, 1, 1, 1, 1, 0, 1, 1, 0, 1, 0, 1, 1]\n",
        "def print_solution(solution):\n",
        "  for i in range(len(solution)):\n",
        "    if solution[i] == 1:\n",
        "      print('%s - %s' % (products[i][0], products[i][2]))"
      ],
      "execution_count": null,
      "outputs": []
    },
    {
      "cell_type": "code",
      "metadata": {
        "id": "PCYb5P_hrwrU",
        "colab": {
          "base_uri": "https://localhost:8080/",
          "height": 231
        },
        "outputId": "f005a78f-8ea5-453f-cfc3-e5212bd4cfc5"
      },
      "source": [
        "print_solution([0, 1, 1, 1, 1, 1, 1, 1, 1, 0, 1, 0, 1, 1])"
      ],
      "execution_count": null,
      "outputs": [
        {
          "output_type": "stream",
          "text": [
            "Cell phone - 2911.12\n",
            "TV 55 - 4346.99\n",
            "TV 50 - 3999.9\n",
            "TV 42 - 2999.0\n",
            "Notebook A - 2499.9\n",
            "Ventilator - 199.9\n",
            "Microwave A - 308.66\n",
            "Microwave B - 429.9\n",
            "Refrigerator B - 849.0\n",
            "Notebook B - 1999.9\n",
            "Notebook C - 3999.0\n"
          ],
          "name": "stdout"
        }
      ]
    },
    {
      "cell_type": "markdown",
      "metadata": {
        "id": "_WGEIdzNmWK7"
      },
      "source": [
        "### Fitness function"
      ]
    },
    {
      "cell_type": "code",
      "metadata": {
        "id": "9X8TPHDAsWZY"
      },
      "source": [
        "# [0, 1, 1, 1, 1, 1, 0, 1, 1, 0, 1, 0, 1, 1]\n",
        "def fitness_function(solution):\n",
        "  cost = 0\n",
        "  sum_space = 0\n",
        "  for i in range(len(solution)):\n",
        "    if solution[i] == 1:\n",
        "      cost += products[i][2]\n",
        "      sum_space += products[i][1]\n",
        "  if sum_space > available_space:\n",
        "    cost = 1\n",
        "  return cost"
      ],
      "execution_count": null,
      "outputs": []
    },
    {
      "cell_type": "code",
      "metadata": {
        "id": "OH1mRx7YtkGy",
        "colab": {
          "base_uri": "https://localhost:8080/",
          "height": 55
        },
        "outputId": "a4b38756-1b40-41dd-86b2-4dd56984e95c"
      },
      "source": [
        "fitness_function([0, 0, 1, 1, 1, 1, 0, 1, 0, 0, 0, 0, 1, 1])"
      ],
      "execution_count": null,
      "outputs": [
        {
          "output_type": "execute_result",
          "data": {
            "text/plain": [
              "20153.35"
            ]
          },
          "metadata": {
            "tags": []
          },
          "execution_count": 25
        }
      ]
    },
    {
      "cell_type": "markdown",
      "metadata": {
        "id": "17bnbo9YsB91"
      },
      "source": [
        "### Aplications of optimization algorithms"
      ]
    },
    {
      "cell_type": "code",
      "metadata": {
        "id": "hEAz9ZKhuaol",
        "colab": {
          "base_uri": "https://localhost:8080/",
          "height": 55
        },
        "outputId": "187ccf11-694e-4365-fa79-2c8cf31e904a"
      },
      "source": [
        "solution = random_search(domain, fitness_function, maximize=True)\n",
        "solution"
      ],
      "execution_count": null,
      "outputs": [
        {
          "output_type": "execute_result",
          "data": {
            "text/plain": [
              "[0, 1, 1, 1, 1, 1, 0, 1, 1, 0, 1, 0, 1, 1]"
            ]
          },
          "metadata": {
            "tags": []
          },
          "execution_count": 34
        }
      ]
    },
    {
      "cell_type": "code",
      "metadata": {
        "id": "5w2IS5k7uk5q",
        "colab": {
          "base_uri": "https://localhost:8080/",
          "height": 231
        },
        "outputId": "5d331de8-4170-4eca-aa54-82926a7c8b0d"
      },
      "source": [
        "cost = fitness_function(solution)\n",
        "print(cost)\n",
        "print_solution(solution)"
      ],
      "execution_count": null,
      "outputs": [
        {
          "output_type": "stream",
          "text": [
            "24343.370000000003\n",
            "Cell phone - 2911.12\n",
            "TV 55 - 4346.99\n",
            "TV 50 - 3999.9\n",
            "TV 42 - 2999.0\n",
            "Notebook A - 2499.9\n",
            "Microwave A - 308.66\n",
            "Microwave B - 429.9\n",
            "Refrigerator B - 849.0\n",
            "Notebook B - 1999.9\n",
            "Notebook C - 3999.0\n"
          ],
          "name": "stdout"
        }
      ]
    },
    {
      "cell_type": "code",
      "metadata": {
        "id": "3SahILxivFBW",
        "colab": {
          "base_uri": "https://localhost:8080/",
          "height": 196
        },
        "outputId": "7e336669-e34a-4ece-af5a-f7911ddc1362"
      },
      "source": [
        "solution = hill_climb(domain, fitness_function, maximize=True)\n",
        "cost = fitness_function(solution)\n",
        "print(cost)\n",
        "print_solution(solution)"
      ],
      "execution_count": null,
      "outputs": [
        {
          "output_type": "stream",
          "text": [
            "Count:  0\n",
            "11886.99\n",
            "Cell phone - 2911.12\n",
            "TV 55 - 4346.99\n",
            "Notebook A - 2499.9\n",
            "Ventilator - 199.9\n",
            "Microwave B - 429.9\n",
            "Microwave C - 299.29\n",
            "Refrigerator C - 1199.89\n"
          ],
          "name": "stdout"
        }
      ]
    },
    {
      "cell_type": "code",
      "metadata": {
        "id": "Id0U1lhfwZyu",
        "colab": {
          "base_uri": "https://localhost:8080/",
          "height": 248
        },
        "outputId": "ccfe0d40-c24d-404d-a09c-3df14203c78e"
      },
      "source": [
        "solution = simulated_anneling(domain, fitness_function, maximize=True)\n",
        "cost = fitness_function(solution)\n",
        "print(cost)\n",
        "print_solution(solution)"
      ],
      "execution_count": null,
      "outputs": [
        {
          "output_type": "stream",
          "text": [
            "Count:  256\n",
            "21534.890000000003\n",
            "Cell phone - 2911.12\n",
            "TV 55 - 4346.99\n",
            "TV 50 - 3999.9\n",
            "TV 42 - 2999.0\n",
            "Notebook A - 2499.9\n",
            "Microwave B - 429.9\n",
            "Microwave C - 299.29\n",
            "Refrigerator B - 849.0\n",
            "Refrigerator C - 1199.89\n",
            "Notebook B - 1999.9\n"
          ],
          "name": "stdout"
        }
      ]
    },
    {
      "cell_type": "code",
      "metadata": {
        "id": "xF75AyE-wh2Q",
        "colab": {
          "base_uri": "https://localhost:8080/",
          "height": 248
        },
        "outputId": "80a83f3c-75ef-46c7-c086-5aa9d36fe849"
      },
      "source": [
        "solution = genetic(domain, fitness_function, maximize=True)\n",
        "cost = fitness_function(solution)\n",
        "print(cost)\n",
        "print_solution(solution)"
      ],
      "execution_count": null,
      "outputs": [
        {
          "output_type": "stream",
          "text": [
            "24993.550000000003\n",
            "Cell phone - 2911.12\n",
            "TV 55 - 4346.99\n",
            "TV 50 - 3999.9\n",
            "TV 42 - 2999.0\n",
            "Notebook A - 2499.9\n",
            "Microwave A - 308.66\n",
            "Microwave B - 429.9\n",
            "Microwave C - 299.29\n",
            "Refrigerator C - 1199.89\n",
            "Notebook B - 1999.9\n",
            "Notebook C - 3999.0\n"
          ],
          "name": "stdout"
        }
      ]
    }
  ]
}