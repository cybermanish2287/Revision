{
  "nbformat": 4,
  "nbformat_minor": 0,
  "metadata": {
    "colab": {
      "name": "Optimization Algorithms in Python - Bedrooms problem.ipynb",
      "provenance": [],
      "collapsed_sections": [
        "2oS2n5iIJkDf",
        "_oa_mvOZJnM4",
        "4ZOCrXStJpyr",
        "SYLOdc5aJtvv",
        "QxanT6B7JwyT"
      ]
    },
    "kernelspec": {
      "name": "python3",
      "display_name": "Python 3"
    }
  },
  "cells": [
    {
      "cell_type": "markdown",
      "metadata": {
        "id": "VgIr_Sa3I_gb"
      },
      "source": [
        "# Optimization Algorithms in Python - Bedrooms problem"
      ]
    },
    {
      "cell_type": "markdown",
      "metadata": {
        "id": "OPdPd1rTJE4x"
      },
      "source": [
        "## Algorithms"
      ]
    },
    {
      "cell_type": "markdown",
      "metadata": {
        "id": "2oS2n5iIJkDf"
      },
      "source": [
        "### Importing the libraries"
      ]
    },
    {
      "cell_type": "code",
      "metadata": {
        "id": "iMmU5iSeIy15"
      },
      "source": [
        "import time\n",
        "import random\n",
        "import math\n",
        "import sys"
      ],
      "execution_count": null,
      "outputs": []
    },
    {
      "cell_type": "markdown",
      "metadata": {
        "id": "_oa_mvOZJnM4"
      },
      "source": [
        "### Random search"
      ]
    },
    {
      "cell_type": "code",
      "metadata": {
        "id": "IMTfm6jqJRvB"
      },
      "source": [
        "def random_search(domain, fitness_function):\n",
        "  best_cost = sys.maxsize\n",
        "  for i in range(1000):\n",
        "    solution = [random.randint(domain[i][0],domain[i][1]) for i in range(len(domain))]\n",
        "    cost = fitness_function(solution)\n",
        "    if cost < best_cost:\n",
        "      best_cost = cost\n",
        "      best_solution = solution\n",
        "  return best_solution"
      ],
      "execution_count": null,
      "outputs": []
    },
    {
      "cell_type": "markdown",
      "metadata": {
        "id": "4ZOCrXStJpyr"
      },
      "source": [
        "### Hill climb"
      ]
    },
    {
      "cell_type": "code",
      "metadata": {
        "id": "lbHfbrXfJU9Y"
      },
      "source": [
        "def hill_climb(domain, fitness_function, initial = []):\n",
        "  count = 0\n",
        "  \n",
        "  if len(initial) > 0:\n",
        "    solution = initial\n",
        "  else:\n",
        "    solution = [random.randint(domain[i][0],domain[i][1]) for i in range(len(domain))]\n",
        "  \n",
        "  while True:\n",
        "    neighbors = []\n",
        "    for i in range(len(domain)):\n",
        "      if solution[i] > domain[i][0]:\n",
        "        if solution[i] != domain[i][1]:\n",
        "          neighbors.append(solution[0:i] + [solution[i] + 1] + solution[i + 1:])\n",
        "      if solution[i] < domain[i][1]:\n",
        "        if solution[i] != domain[i][0]:\n",
        "          neighbors.append(solution[0:i] + [solution[i] - 1] + solution[i + 1:])\n",
        "\n",
        "    actual = fitness_function(solution)\n",
        "    best = actual\n",
        "    for i in range(len(neighbors)):\n",
        "      count += 1\n",
        "      cost = fitness_function(neighbors[i])\n",
        "      if cost < best:\n",
        "        best = cost\n",
        "        solution = neighbors[i]\n",
        "\n",
        "    if best == actual:\n",
        "      print('Count: ', count)\n",
        "      break\n",
        "\n",
        "  return solution"
      ],
      "execution_count": null,
      "outputs": []
    },
    {
      "cell_type": "markdown",
      "metadata": {
        "id": "SYLOdc5aJtvv"
      },
      "source": [
        "### Simulated annealing"
      ]
    },
    {
      "cell_type": "code",
      "metadata": {
        "id": "jlm4Z6YDJZoq"
      },
      "source": [
        "def simulated_anneling(domain, fitness_function, temperature = 50000.0,\n",
        "                       cooling = 0.95, step = 1, initial = []):\n",
        "  count = 0\n",
        "\n",
        "  if len(initial) > 0:\n",
        "    solution = initial\n",
        "  else:\n",
        "    solution = [random.randint(domain[i][0], domain[i][1]) for i in range(len(domain))]\n",
        "   \n",
        "  while temperature > 0.1:\n",
        "    i = random.randint(0, len(domain) - 1)\n",
        "    direction = random.randint(-step, step)\n",
        "    temp_solution = solution[:] \n",
        "    temp_solution[i] += direction\n",
        "    if temp_solution[i] < domain[i][0]:\n",
        "      temp_solution[i] = domain[i][0]\n",
        "    elif temp_solution[i] > domain[i][1]:\n",
        "      temp_solution[i] = domain[i][1]\n",
        "\n",
        "    count += 1\n",
        "    cost_solution = fitness_function(solution)\n",
        "    cost_solution_temp = fitness_function(temp_solution)\n",
        "    probability = pow(math.e, (-cost_solution_temp - cost_solution) / temperature)\n",
        "\n",
        "    if (cost_solution_temp < cost_solution or random.random() < probability):\n",
        "      solution = temp_solution\n",
        "\n",
        "    temperature = temperature * cooling\n",
        "\n",
        "  print('Count: ', count)\n",
        "  return solution"
      ],
      "execution_count": null,
      "outputs": []
    },
    {
      "cell_type": "markdown",
      "metadata": {
        "id": "QxanT6B7JwyT"
      },
      "source": [
        "### Genetic algorithm"
      ]
    },
    {
      "cell_type": "code",
      "metadata": {
        "id": "PlPCuopPJc6t"
      },
      "source": [
        "def mutation(domain, step, solution):\n",
        "  gene = random.randint(0, len(domain) - 1)\n",
        "  mutant = solution\n",
        "  if random.random() < 0.5:\n",
        "    if solution[gene] != domain[gene][0]:\n",
        "      mutant = solution[0:gene] + [solution[gene] - step] + solution[gene + 1:]\n",
        "  else:\n",
        "    if solution[gene] != domain[gene][1]:\n",
        "      mutant = solution[0:gene] + [solution[gene] + step] + solution[gene + 1:]\n",
        "  return mutant\n",
        "\n",
        "def crossover(domain, solution1, solution2):\n",
        "  gene = random.randint(1, len(domain) - 2)\n",
        "  return solution1[0:gene] + solution2[gene:]\n",
        "\n",
        "def genetic(domain, fitness_function, population_size = 100, step = 1,\n",
        "            probability_mutation = 0.2, elitism = 0.2,\n",
        "            number_generations = 500, search = False):\n",
        "  population = []\n",
        "  for i in range(population_size):\n",
        "    if search == True:\n",
        "      solution = random_search(domain, fitness_function)\n",
        "    else:\n",
        "      solution = [random.randint(domain[i][0], domain[i][1]) for i in range(len(domain))]\n",
        "    \n",
        "    population.append(solution)\n",
        "\n",
        "  number_elitism = int(elitism * population_size)\n",
        "\n",
        "  for i in range(number_generations):\n",
        "    costs = [(fitness_function(individual), individual) for individual in population]\n",
        "    costs.sort()\n",
        "    ordered_individuals = [individual for (cost, individual) in costs]\n",
        "    population = ordered_individuals[0:number_elitism]\n",
        "    while len(population) < population_size:\n",
        "      if random.random() < probability_mutation:\n",
        "        m = random.randint(0, number_elitism)\n",
        "        population.append(mutation(domain, step, ordered_individuals[m]))\n",
        "      else:\n",
        "        i1 = random.randint(0, number_elitism)\n",
        "        i2 = random.randint(0, number_elitism)\n",
        "        population.append(crossover(domain, ordered_individuals[i1], ordered_individuals[i2]))\n",
        "  return costs[0][1]"
      ],
      "execution_count": null,
      "outputs": []
    },
    {
      "cell_type": "markdown",
      "metadata": {
        "id": "q2Bxk5iWLNVi"
      },
      "source": [
        "## Bedroom problem"
      ]
    },
    {
      "cell_type": "markdown",
      "metadata": {
        "id": "ULrP0qgBATJ-"
      },
      "source": [
        "### Domain of the problem"
      ]
    },
    {
      "cell_type": "code",
      "metadata": {
        "id": "oyONPVr-AcD-"
      },
      "source": [
        "bedrooms = ['Lisbon', 'Madrid', 'London', 'Dublin', 'Paris']"
      ],
      "execution_count": null,
      "outputs": []
    },
    {
      "cell_type": "code",
      "metadata": {
        "id": "bHoD3zjqAmsA",
        "colab": {
          "base_uri": "https://localhost:8080/",
          "height": 57
        },
        "outputId": "1c2b0546-50a9-40d7-d75b-1e201d72f98f"
      },
      "source": [
        "bedrooms[4]"
      ],
      "execution_count": null,
      "outputs": [
        {
          "output_type": "execute_result",
          "data": {
            "application/vnd.google.colaboratory.intrinsic+json": {
              "type": "string"
            },
            "text/plain": [
              "'Paris'"
            ]
          },
          "metadata": {
            "tags": []
          },
          "execution_count": 9
        }
      ]
    },
    {
      "cell_type": "code",
      "metadata": {
        "id": "4P2RxJTTAuH9"
      },
      "source": [
        "preferences = [('Mary', ('Lisbon', 'Paris')),\n",
        "               ('Peter', ('Lisbon', 'Paris')),\n",
        "               ('Stuart', ('Madrid', 'Lisbon')),\n",
        "               ('Jessica', ('Madrid', 'Dublin')),\n",
        "               ('Fred', ('Paris', 'Madrid')), \n",
        "               ('John', ('London', 'Madrid')), \n",
        "               ('Paul', ('London', 'Paris')), \n",
        "               ('Suzane', ('Dublin', 'London')), \n",
        "               ('Amanda', ('Dublin', 'London')), \n",
        "               ('Laura', ('Dublin', 'London'))]"
      ],
      "execution_count": null,
      "outputs": []
    },
    {
      "cell_type": "code",
      "metadata": {
        "id": "RYMKOTBABehV",
        "colab": {
          "base_uri": "https://localhost:8080/",
          "height": 55
        },
        "outputId": "23cd537c-33b6-447a-bb3f-b33c61b03d7b"
      },
      "source": [
        "preferences[1]"
      ],
      "execution_count": null,
      "outputs": [
        {
          "output_type": "execute_result",
          "data": {
            "text/plain": [
              "('Peter', ('Lisbon', 'Paris'))"
            ]
          },
          "metadata": {
            "tags": []
          },
          "execution_count": 13
        }
      ]
    },
    {
      "cell_type": "code",
      "metadata": {
        "id": "iQB5jossBsnD",
        "colab": {
          "base_uri": "https://localhost:8080/",
          "height": 57
        },
        "outputId": "72004cd6-e2ca-4182-e969-e17f0ea08476"
      },
      "source": [
        "preferences[1][0]"
      ],
      "execution_count": null,
      "outputs": [
        {
          "output_type": "execute_result",
          "data": {
            "application/vnd.google.colaboratory.intrinsic+json": {
              "type": "string"
            },
            "text/plain": [
              "'Peter'"
            ]
          },
          "metadata": {
            "tags": []
          },
          "execution_count": 14
        }
      ]
    },
    {
      "cell_type": "code",
      "metadata": {
        "id": "vodaDNIbBy2B",
        "colab": {
          "base_uri": "https://localhost:8080/",
          "height": 55
        },
        "outputId": "c8f19571-116f-4a75-ea8c-99145ef3f8c1"
      },
      "source": [
        "preferences[1][1]"
      ],
      "execution_count": null,
      "outputs": [
        {
          "output_type": "execute_result",
          "data": {
            "text/plain": [
              "('Lisbon', 'Paris')"
            ]
          },
          "metadata": {
            "tags": []
          },
          "execution_count": 15
        }
      ]
    },
    {
      "cell_type": "code",
      "metadata": {
        "id": "Ccp07B2SB64J",
        "colab": {
          "base_uri": "https://localhost:8080/",
          "height": 57
        },
        "outputId": "339f1676-95dd-4bea-8a13-ebcf5b8a5d83"
      },
      "source": [
        "preferences[1][1][0]"
      ],
      "execution_count": null,
      "outputs": [
        {
          "output_type": "execute_result",
          "data": {
            "application/vnd.google.colaboratory.intrinsic+json": {
              "type": "string"
            },
            "text/plain": [
              "'Lisbon'"
            ]
          },
          "metadata": {
            "tags": []
          },
          "execution_count": 16
        }
      ]
    },
    {
      "cell_type": "code",
      "metadata": {
        "id": "-YStHu0-B_Vo",
        "colab": {
          "base_uri": "https://localhost:8080/",
          "height": 57
        },
        "outputId": "576476e7-8903-44ed-e6e4-659605f44d17"
      },
      "source": [
        "preferences[1][1][1]"
      ],
      "execution_count": null,
      "outputs": [
        {
          "output_type": "execute_result",
          "data": {
            "application/vnd.google.colaboratory.intrinsic+json": {
              "type": "string"
            },
            "text/plain": [
              "'Paris'"
            ]
          },
          "metadata": {
            "tags": []
          },
          "execution_count": 17
        }
      ]
    },
    {
      "cell_type": "code",
      "metadata": {
        "id": "t9Q8IUe9CMAb"
      },
      "source": [
        "# (0,9), (0,8), (0,7), (0,6), (0,5), (0,4), (0,3), (0,2), (0,1), (0,0)"
      ],
      "execution_count": null,
      "outputs": []
    },
    {
      "cell_type": "code",
      "metadata": {
        "id": "PtP5l7E7EIVR",
        "colab": {
          "base_uri": "https://localhost:8080/",
          "height": 55
        },
        "outputId": "47b3351d-1a27-4db7-e7bb-a55d45b37a16"
      },
      "source": [
        "len(bedrooms) * 2"
      ],
      "execution_count": null,
      "outputs": [
        {
          "output_type": "execute_result",
          "data": {
            "text/plain": [
              "10"
            ]
          },
          "metadata": {
            "tags": []
          },
          "execution_count": 20
        }
      ]
    },
    {
      "cell_type": "code",
      "metadata": {
        "id": "YZRYLrBbEBrO",
        "colab": {
          "base_uri": "https://localhost:8080/",
          "height": 213
        },
        "outputId": "cb491a8b-7c58-462e-ecf6-2201ef4aeb17"
      },
      "source": [
        "domain = [(0, (len(bedrooms) * 2) - i - 1) for i in range(0, len(bedrooms) * 2)]\n",
        "domain"
      ],
      "execution_count": null,
      "outputs": [
        {
          "output_type": "execute_result",
          "data": {
            "text/plain": [
              "[(0, 9),\n",
              " (0, 8),\n",
              " (0, 7),\n",
              " (0, 6),\n",
              " (0, 5),\n",
              " (0, 4),\n",
              " (0, 3),\n",
              " (0, 2),\n",
              " (0, 1),\n",
              " (0, 0)]"
            ]
          },
          "metadata": {
            "tags": []
          },
          "execution_count": 21
        }
      ]
    },
    {
      "cell_type": "markdown",
      "metadata": {
        "id": "ozbUziwXVkA_"
      },
      "source": [
        "### Printing the solution"
      ]
    },
    {
      "cell_type": "code",
      "metadata": {
        "id": "VuIu6O8ZFWCm"
      },
      "source": [
        "# [6,1,2,1,2,0,2,2,0,0]"
      ],
      "execution_count": null,
      "outputs": []
    },
    {
      "cell_type": "code",
      "metadata": {
        "id": "i6xDavspGE-c",
        "colab": {
          "base_uri": "https://localhost:8080/",
          "height": 55
        },
        "outputId": "daf31821-7ef9-4b29-b0ef-dda8ea1181f2"
      },
      "source": [
        "len(bedrooms)"
      ],
      "execution_count": null,
      "outputs": [
        {
          "output_type": "execute_result",
          "data": {
            "text/plain": [
              "5"
            ]
          },
          "metadata": {
            "tags": []
          },
          "execution_count": 22
        }
      ]
    },
    {
      "cell_type": "code",
      "metadata": {
        "id": "GiAdei1FHNIt"
      },
      "source": [
        "# ['Lisbon', 'Madrid', 'London', 'Dublin', 'Paris']\n",
        "#   0  1       2  3      4  5      6  7      8  9"
      ],
      "execution_count": null,
      "outputs": []
    },
    {
      "cell_type": "code",
      "metadata": {
        "id": "cFN0tV_VFsV6"
      },
      "source": [
        "def print_solution(solution):\n",
        "  vacancies = []\n",
        "  for i in range(len(bedrooms)):\n",
        "    vacancies += [i, i]\n",
        "  #print(vacancies)\n",
        "\n",
        "  for i in range(len(solution)):\n",
        "    current = solution[i]\n",
        "    bedroom = bedrooms[vacancies[current]]\n",
        "    print(preferences[i][0], bedroom)\n",
        "    del vacancies[current]"
      ],
      "execution_count": null,
      "outputs": []
    },
    {
      "cell_type": "code",
      "metadata": {
        "id": "4xJtJCTbGUGO",
        "colab": {
          "base_uri": "https://localhost:8080/",
          "height": 213
        },
        "outputId": "f8f487af-b0fd-4849-8dc0-702404a9b961"
      },
      "source": [
        "print_solution([6,1,2,1,2,0,2,2,0,0])"
      ],
      "execution_count": null,
      "outputs": [
        {
          "output_type": "stream",
          "text": [
            "Mary Dublin\n",
            "Peter Lisbon\n",
            "Stuart Madrid\n",
            "Jessica Madrid\n",
            "Fred London\n",
            "John Lisbon\n",
            "Paul Paris\n",
            "Suzane Paris\n",
            "Amanda London\n",
            "Laura Dublin\n"
          ],
          "name": "stdout"
        }
      ]
    },
    {
      "cell_type": "markdown",
      "metadata": {
        "id": "_WGEIdzNmWK7"
      },
      "source": [
        "### Fitness function"
      ]
    },
    {
      "cell_type": "code",
      "metadata": {
        "id": "YKWzIA93LnwI",
        "colab": {
          "base_uri": "https://localhost:8080/",
          "height": 55
        },
        "outputId": "8b886421-b5fd-43fc-fb9a-5904af2da43a"
      },
      "source": [
        "preferences[0][1]"
      ],
      "execution_count": null,
      "outputs": [
        {
          "output_type": "execute_result",
          "data": {
            "text/plain": [
              "('Lisbon', 'Paris')"
            ]
          },
          "metadata": {
            "tags": []
          },
          "execution_count": 32
        }
      ]
    },
    {
      "cell_type": "code",
      "metadata": {
        "id": "DqnoYzbdKyd2"
      },
      "source": [
        "# [6,1,2,1,2,0,2,2,0,0]\n",
        "def fitness_function(solution):\n",
        "  cost = 0\n",
        "  vacancies = [0,0,1,1,2,2,3,3,4,4]\n",
        "  for i in range(len(solution)):\n",
        "    current = solution[i]\n",
        "    bedroom = bedrooms[vacancies[current]]\n",
        "    preference = preferences[i][1]\n",
        "    if preference[0] == bedroom:\n",
        "      cost += 0\n",
        "    elif preference[1] == bedroom:\n",
        "      cost += 1\n",
        "    else:\n",
        "      cost += 3\n",
        "\n",
        "    del vacancies[current]\n",
        "  \n",
        "  return cost"
      ],
      "execution_count": null,
      "outputs": []
    },
    {
      "cell_type": "code",
      "metadata": {
        "id": "2UzX6-UQMSli",
        "colab": {
          "base_uri": "https://localhost:8080/",
          "height": 55
        },
        "outputId": "fe63ff07-10be-4800-dd5a-7f8bb68e406f"
      },
      "source": [
        "fitness_function([6,1,2,1,2,0,2,2,0,0])"
      ],
      "execution_count": null,
      "outputs": [
        {
          "output_type": "execute_result",
          "data": {
            "text/plain": [
              "14"
            ]
          },
          "metadata": {
            "tags": []
          },
          "execution_count": 38
        }
      ]
    },
    {
      "cell_type": "markdown",
      "metadata": {
        "id": "17bnbo9YsB91"
      },
      "source": [
        "### Aplications of optimization algorithms"
      ]
    },
    {
      "cell_type": "code",
      "metadata": {
        "id": "h4YXZqmnOjmn",
        "colab": {
          "base_uri": "https://localhost:8080/",
          "height": 231
        },
        "outputId": "c51bc5d0-baf4-453f-b82a-8304d4b3a0f9"
      },
      "source": [
        "solution = random_search(domain, fitness_function)\n",
        "cost = fitness_function(solution)\n",
        "print(cost)\n",
        "print_solution(solution)"
      ],
      "execution_count": null,
      "outputs": [
        {
          "output_type": "stream",
          "text": [
            "6\n",
            "Mary Lisbon\n",
            "Peter Paris\n",
            "Stuart Lisbon\n",
            "Jessica Madrid\n",
            "Fred Paris\n",
            "John London\n",
            "Paul Madrid\n",
            "Suzane Dublin\n",
            "Amanda London\n",
            "Laura Dublin\n"
          ],
          "name": "stdout"
        }
      ]
    },
    {
      "cell_type": "code",
      "metadata": {
        "id": "N9tagsKUO_FP",
        "colab": {
          "base_uri": "https://localhost:8080/",
          "height": 248
        },
        "outputId": "56f026b7-c07b-40d9-8a70-943bedabde7f"
      },
      "source": [
        "solution = hill_climb(domain, fitness_function)\n",
        "cost = fitness_function(solution)\n",
        "print(cost)\n",
        "print_solution(solution)"
      ],
      "execution_count": null,
      "outputs": [
        {
          "output_type": "stream",
          "text": [
            "Count:  52\n",
            "16\n",
            "Mary Paris\n",
            "Peter London\n",
            "Stuart Paris\n",
            "Jessica Dublin\n",
            "Fred Madrid\n",
            "John Madrid\n",
            "Paul London\n",
            "Suzane Dublin\n",
            "Amanda Lisbon\n",
            "Laura Lisbon\n"
          ],
          "name": "stdout"
        }
      ]
    },
    {
      "cell_type": "code",
      "metadata": {
        "id": "BD0g3wBsPI2l",
        "colab": {
          "base_uri": "https://localhost:8080/",
          "height": 248
        },
        "outputId": "51fe72cf-3bfc-4f3f-af55-f609c47c5e43"
      },
      "source": [
        "solution = simulated_anneling(domain, fitness_function)\n",
        "cost = fitness_function(solution)\n",
        "print(cost)\n",
        "print_solution(solution)"
      ],
      "execution_count": null,
      "outputs": [
        {
          "output_type": "stream",
          "text": [
            "Count:  256\n",
            "18\n",
            "Mary Paris\n",
            "Peter Dublin\n",
            "Stuart London\n",
            "Jessica Lisbon\n",
            "Fred Madrid\n",
            "John Madrid\n",
            "Paul London\n",
            "Suzane Dublin\n",
            "Amanda Paris\n",
            "Laura Lisbon\n"
          ],
          "name": "stdout"
        }
      ]
    },
    {
      "cell_type": "code",
      "metadata": {
        "id": "WNQoEsfvPaXe",
        "colab": {
          "base_uri": "https://localhost:8080/",
          "height": 213
        },
        "outputId": "6c059b65-2fd3-4c73-989c-21cfdbe8b97b"
      },
      "source": [
        "preferences"
      ],
      "execution_count": null,
      "outputs": [
        {
          "output_type": "execute_result",
          "data": {
            "text/plain": [
              "[('Mary', ('Lisbon', 'Paris')),\n",
              " ('Peter', ('Lisbon', 'Paris')),\n",
              " ('Stuart', ('Madrid', 'Lisbon')),\n",
              " ('Jessica', ('Madrid', 'Dublin')),\n",
              " ('Fred', ('Paris', 'Madrid')),\n",
              " ('John', ('London', 'Madrid')),\n",
              " ('Paul', ('London', 'Paris')),\n",
              " ('Suzane', ('Dublin', 'London')),\n",
              " ('Amanda', ('Dublin', 'London')),\n",
              " ('Laura', ('Dublin', 'London'))]"
            ]
          },
          "metadata": {
            "tags": []
          },
          "execution_count": 58
        }
      ]
    },
    {
      "cell_type": "code",
      "metadata": {
        "id": "KVxsGWCGPNpX",
        "colab": {
          "base_uri": "https://localhost:8080/",
          "height": 231
        },
        "outputId": "fbb114d2-e278-4b6e-d6d6-b22303c9bb0e"
      },
      "source": [
        "solution = genetic(domain, fitness_function)\n",
        "cost = fitness_function(solution)\n",
        "print(cost)\n",
        "print_solution(solution)"
      ],
      "execution_count": null,
      "outputs": [
        {
          "output_type": "stream",
          "text": [
            "2\n",
            "Mary Lisbon\n",
            "Peter Lisbon\n",
            "Stuart Madrid\n",
            "Jessica Madrid\n",
            "Fred Paris\n",
            "John London\n",
            "Paul Paris\n",
            "Suzane London\n",
            "Amanda Dublin\n",
            "Laura Dublin\n"
          ],
          "name": "stdout"
        }
      ]
    }
  ]
}