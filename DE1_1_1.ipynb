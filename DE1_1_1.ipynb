{
  "nbformat": 4,
  "nbformat_minor": 0,
  "metadata": {
    "colab": {
      "name": "DE1.1.1.ipynb",
      "provenance": [],
      "collapsed_sections": [],
      "toc_visible": true
    },
    "kernelspec": {
      "name": "python3",
      "display_name": "Python 3"
    },
    "language_info": {
      "name": "python"
    }
  },
  "cells": [
    {
      "cell_type": "code",
      "execution_count": 1,
      "metadata": {
        "id": "qVLBtB9096DV"
      },
      "outputs": [],
      "source": [
        "# ########## ONLY in Colab ##########\n",
        "# !pip3 install pyspark\n",
        "# ########## ONLY in Colab ##########"
      ]
    },
    {
      "cell_type": "code",
      "source": [
        "# Linking with Spark\n",
        "from pyspark import SparkContext, SparkConf"
      ],
      "metadata": {
        "id": "D6cTJf1FKpmo"
      },
      "execution_count": 2,
      "outputs": []
    },
    {
      "cell_type": "code",
      "source": [
        "# Initializing Spark\n",
        "conf = SparkConf().setAppName(\"RDD_practice\").setMaster(\"local[*]\")\n",
        "sc = SparkContext(conf=conf)\n",
        "print(sc)"
      ],
      "metadata": {
        "colab": {
          "base_uri": "https://localhost:8080/"
        },
        "id": "jqY_zqbrKx6S",
        "outputId": "8e9a359d-7f61-486a-fa06-9a0c89c4da04"
      },
      "execution_count": 3,
      "outputs": [
        {
          "output_type": "stream",
          "name": "stdout",
          "text": [
            "<SparkContext master=local[*] appName=RDD_practice>\n"
          ]
        }
      ]
    },
    {
      "cell_type": "code",
      "source": [
        "# Generate random data:\n",
        "import random\n",
        "# Generate 10 random numbers between 0 and 40\n",
        "randomlist = random.sample(range(0, 40), 10)\n",
        "print(randomlist)"
      ],
      "metadata": {
        "colab": {
          "base_uri": "https://localhost:8080/"
        },
        "id": "ErmDw0VlU80f",
        "outputId": "f8d46a36-d23f-475f-ec96-502687841be0"
      },
      "execution_count": 4,
      "outputs": [
        {
          "output_type": "stream",
          "name": "stdout",
          "text": [
            "[1, 36, 3, 29, 19, 26, 39, 25, 15, 11]\n"
          ]
        }
      ]
    },
    {
      "cell_type": "code",
      "source": [
        "# Create RDD:\n",
        "rdd1 = sc.parallelize(randomlist, 4)\n",
        "rdd1.collect()"
      ],
      "metadata": {
        "colab": {
          "base_uri": "https://localhost:8080/"
        },
        "id": "TRBNyH97VA2i",
        "outputId": "4c7e8fa0-38d9-463e-850f-8d6b62068892"
      },
      "execution_count": 5,
      "outputs": [
        {
          "output_type": "execute_result",
          "data": {
            "text/plain": [
              "[1, 36, 3, 29, 19, 26, 39, 25, 15, 11]"
            ]
          },
          "metadata": {},
          "execution_count": 5
        }
      ]
    },
    {
      "cell_type": "code",
      "source": [
        "# Data distribution in partitions:\n",
        "print(rdd1.getNumPartitions())\n",
        "print(rdd1.glom().collect())\n",
        "print(\"Two partitions: \", rdd1.glom().take(2))"
      ],
      "metadata": {
        "colab": {
          "base_uri": "https://localhost:8080/"
        },
        "id": "h95AzbhxVBx1",
        "outputId": "1b77a67c-c72d-406e-e3ba-6a44f9fcc309"
      },
      "execution_count": 6,
      "outputs": [
        {
          "output_type": "stream",
          "name": "stdout",
          "text": [
            "4\n",
            "[[1, 36], [3, 29], [19, 26], [39, 25, 15, 11]]\n",
            "Two partitions:  [[1, 36], [3, 29]]\n"
          ]
        }
      ]
    },
    {
      "cell_type": "code",
      "source": [
        "# Print last partition\n",
        "for item in rdd1.glom().collect()[3]:\n",
        "  print(item)"
      ],
      "metadata": {
        "colab": {
          "base_uri": "https://localhost:8080/"
        },
        "id": "mfGvGSJ4VCnv",
        "outputId": "49bf1eff-4b25-480c-ae18-49c02c63b699"
      },
      "execution_count": 9,
      "outputs": [
        {
          "output_type": "stream",
          "name": "stdout",
          "text": [
            "39\n",
            "25\n",
            "15\n",
            "11\n"
          ]
        }
      ]
    },
    {
      "cell_type": "code",
      "source": [
        "# count():\n",
        "rdd1.count()"
      ],
      "metadata": {
        "colab": {
          "base_uri": "https://localhost:8080/"
        },
        "id": "8ZJ8RynAVC3c",
        "outputId": "ff82fb3c-9dbd-4662-82ef-431e674be492"
      },
      "execution_count": 10,
      "outputs": [
        {
          "output_type": "execute_result",
          "data": {
            "text/plain": [
              "10"
            ]
          },
          "metadata": {},
          "execution_count": 10
        }
      ]
    },
    {
      "cell_type": "code",
      "source": [
        "# first():\n",
        "rdd1.first()"
      ],
      "metadata": {
        "colab": {
          "base_uri": "https://localhost:8080/"
        },
        "id": "bq6Pk6mEVC_9",
        "outputId": "49f904ed-b5db-467c-b2eb-2406decbc7a1"
      },
      "execution_count": 11,
      "outputs": [
        {
          "output_type": "execute_result",
          "data": {
            "text/plain": [
              "1"
            ]
          },
          "metadata": {},
          "execution_count": 11
        }
      ]
    },
    {
      "cell_type": "code",
      "source": [
        "# top():\n",
        "rdd1.top(2)"
      ],
      "metadata": {
        "colab": {
          "base_uri": "https://localhost:8080/"
        },
        "id": "8jIakaRnVDGk",
        "outputId": "671cb541-7723-4b82-b81a-b3aa3575e7b2"
      },
      "execution_count": 13,
      "outputs": [
        {
          "output_type": "execute_result",
          "data": {
            "text/plain": [
              "[39, 36]"
            ]
          },
          "metadata": {},
          "execution_count": 13
        }
      ]
    },
    {
      "cell_type": "code",
      "source": [
        "# distinct():\n",
        "rdd1.distinct().collect()"
      ],
      "metadata": {
        "colab": {
          "base_uri": "https://localhost:8080/"
        },
        "id": "3fOkg-r_VDM1",
        "outputId": "d3640782-2ca0-421e-c6b5-7b10a1129929"
      },
      "execution_count": 14,
      "outputs": [
        {
          "output_type": "execute_result",
          "data": {
            "text/plain": [
              "[36, 1, 29, 25, 26, 3, 19, 39, 15, 11]"
            ]
          },
          "metadata": {},
          "execution_count": 14
        }
      ]
    },
    {
      "cell_type": "code",
      "source": [
        "# map():\n",
        "rdd_map = rdd1.map(lambda x:(x+1)*3)\n",
        "rdd_map.collect()"
      ],
      "metadata": {
        "colab": {
          "base_uri": "https://localhost:8080/"
        },
        "id": "9ens3RS2VDTk",
        "outputId": "c0be6b07-84fc-4733-dbf0-9e1d11f24210"
      },
      "execution_count": 15,
      "outputs": [
        {
          "output_type": "execute_result",
          "data": {
            "text/plain": [
              "[6, 111, 12, 90, 60, 81, 120, 78, 48, 36]"
            ]
          },
          "metadata": {},
          "execution_count": 15
        }
      ]
    },
    {
      "cell_type": "code",
      "source": [
        "# filter(): \n",
        "rdd_filter = rdd1.filter(lambda x : x%3==0)\n",
        "rdd_filter.collect()"
      ],
      "metadata": {
        "colab": {
          "base_uri": "https://localhost:8080/"
        },
        "id": "d_dLA0PAVDaT",
        "outputId": "5d249401-66d7-479f-86df-51e332b30c95"
      },
      "execution_count": 16,
      "outputs": [
        {
          "output_type": "execute_result",
          "data": {
            "text/plain": [
              "[36, 3, 39, 15]"
            ]
          },
          "metadata": {},
          "execution_count": 16
        }
      ]
    },
    {
      "cell_type": "code",
      "source": [
        "# flatMap():\n",
        "rdd_flatmap=rdd1.flatMap(lambda x: [x+2,x+5])\n",
        "print(rdd_flatmap.collect())\n",
        "print(\"The summation of elements =\", rdd_flatmap.reduce(lambda a,b : a + b))"
      ],
      "metadata": {
        "colab": {
          "base_uri": "https://localhost:8080/"
        },
        "id": "7YKv8d1QVDg1",
        "outputId": "89ec5352-0b7f-4875-bdc9-bcf68bead40e"
      },
      "execution_count": 17,
      "outputs": [
        {
          "output_type": "stream",
          "name": "stdout",
          "text": [
            "[3, 6, 38, 41, 5, 8, 31, 34, 21, 24, 28, 31, 41, 44, 27, 30, 17, 20, 13, 16]\n",
            "The summation of elements = 478\n"
          ]
        }
      ]
    },
    {
      "cell_type": "code",
      "source": [
        "# Descriptive statistics:\n",
        "print([rdd1.max(), rdd1.min(), rdd1.mean(), rdd1.sum(), round(rdd1.stdev(),2), rdd1.top(2)])"
      ],
      "metadata": {
        "colab": {
          "base_uri": "https://localhost:8080/"
        },
        "id": "l8VlvP_lVDnP",
        "outputId": "6b28085e-2dfa-490d-9ea5-2fb2be806704"
      },
      "execution_count": 18,
      "outputs": [
        {
          "output_type": "stream",
          "name": "stdout",
          "text": [
            "[39, 1, 20.4, 204, 12.31, [39, 36]]\n"
          ]
        }
      ]
    },
    {
      "cell_type": "code",
      "source": [
        "# mapPartitions():\n",
        "\n",
        "def myfunc(partition):\n",
        "  sum = 0\n",
        "  for item in partition:\n",
        "    sum = sum + item\n",
        "  yield sum  # \"return\" causes a function to exit; \"yield\" is used to define generator and returns an intermediate results.\n",
        "\n",
        "rdd_mapPartition = rdd1.mapPartitions(myfunc)\n",
        "rdd_mapPartition.collect()"
      ],
      "metadata": {
        "colab": {
          "base_uri": "https://localhost:8080/"
        },
        "id": "t2bY4QsTVDt3",
        "outputId": "7416896b-59fe-433b-bc82-2f4ecef96669"
      },
      "execution_count": 19,
      "outputs": [
        {
          "output_type": "execute_result",
          "data": {
            "text/plain": [
              "[37, 32, 45, 90]"
            ]
          },
          "metadata": {},
          "execution_count": 19
        }
      ]
    },
    {
      "cell_type": "code",
      "source": [
        "# union():\n",
        "print(rdd1.collect())\n",
        "rdd2 = sc.parallelize([1, 14, 20, 20, 28, 10, 13, 3],2)\n",
        "print(rdd2.collect())\n",
        "\n",
        "rdd_union = rdd1.union(rdd2)\n",
        "print(rdd_union.getNumPartitions())\n",
        "print(rdd_union.collect())"
      ],
      "metadata": {
        "colab": {
          "base_uri": "https://localhost:8080/"
        },
        "id": "RBsJtrRmVD5O",
        "outputId": "ffb339d4-ea67-4361-e30f-67a6848f2bd9"
      },
      "execution_count": 20,
      "outputs": [
        {
          "output_type": "stream",
          "name": "stdout",
          "text": [
            "[1, 36, 3, 29, 19, 26, 39, 25, 15, 11]\n",
            "[1, 14, 20, 20, 28, 10, 13, 3]\n",
            "6\n",
            "[1, 36, 3, 29, 19, 26, 39, 25, 15, 11, 1, 14, 20, 20, 28, 10, 13, 3]\n"
          ]
        }
      ]
    },
    {
      "cell_type": "code",
      "source": [
        "# intersection():\n",
        "rdd_intersection = rdd1.intersection(rdd2)\n",
        "print(rdd_intersection.getNumPartitions())\n",
        "print(rdd_intersection.collect())\n",
        "\n",
        "rdd_intersection.glom().collect()"
      ],
      "metadata": {
        "colab": {
          "base_uri": "https://localhost:8080/"
        },
        "id": "S14A9koZVEBa",
        "outputId": "ab046422-ce0d-454e-b5e2-199b4c4cd092"
      },
      "execution_count": 21,
      "outputs": [
        {
          "output_type": "stream",
          "name": "stdout",
          "text": [
            "6\n",
            "[1, 3]\n"
          ]
        },
        {
          "output_type": "execute_result",
          "data": {
            "text/plain": [
              "[[], [1], [], [3], [], []]"
            ]
          },
          "metadata": {},
          "execution_count": 21
        }
      ]
    },
    {
      "cell_type": "code",
      "source": [
        "# Find empty partitions\n",
        "counter = 0\n",
        "for item in rdd_intersection.glom().collect():\n",
        "  if len(item) == 0:\n",
        "    counter = counter + 1\n",
        "print(counter)"
      ],
      "metadata": {
        "colab": {
          "base_uri": "https://localhost:8080/"
        },
        "id": "ClPEBBGbVEJl",
        "outputId": "e78bfb1e-d9e2-46b8-d1fb-5e89627d6a9b"
      },
      "execution_count": 22,
      "outputs": [
        {
          "output_type": "stream",
          "name": "stdout",
          "text": [
            "4\n"
          ]
        }
      ]
    },
    {
      "cell_type": "code",
      "source": [
        "# coalesce(numPartitions):\n",
        "rdd_intersection.coalesce(1).glom().collect()"
      ],
      "metadata": {
        "colab": {
          "base_uri": "https://localhost:8080/"
        },
        "id": "zYrR7xHGXw48",
        "outputId": "1841a6f3-d686-40db-f6fd-ec43bb54e3ad"
      },
      "execution_count": 23,
      "outputs": [
        {
          "output_type": "execute_result",
          "data": {
            "text/plain": [
              "[[1, 3]]"
            ]
          },
          "metadata": {},
          "execution_count": 23
        }
      ]
    },
    {
      "cell_type": "code",
      "source": [
        "# takeSample(withReplacement, num, [seed])\n",
        "# This method should only be used if the resulting array is expected to be small, as all the data is loaded into the driver’s memory.\n",
        "\n",
        "rdd1.takeSample(False, 5)"
      ],
      "metadata": {
        "colab": {
          "base_uri": "https://localhost:8080/"
        },
        "id": "_eetJ3DWXxqN",
        "outputId": "d34b311e-d32e-46a0-9309-ed3ea74cf322"
      },
      "execution_count": 24,
      "outputs": [
        {
          "output_type": "execute_result",
          "data": {
            "text/plain": [
              "[25, 11, 36, 29, 39]"
            ]
          },
          "metadata": {},
          "execution_count": 24
        }
      ]
    },
    {
      "cell_type": "code",
      "source": [
        "print(rdd1.collect())\n",
        "print(rdd1.takeOrdered(5))\n",
        "print(rdd1.takeOrdered(5, key=lambda x: -x))"
      ],
      "metadata": {
        "colab": {
          "base_uri": "https://localhost:8080/"
        },
        "id": "GVCh3AFPXxwz",
        "outputId": "dcf91bcb-d355-4bf9-cee3-6e150b7b84f6"
      },
      "execution_count": 25,
      "outputs": [
        {
          "output_type": "stream",
          "name": "stdout",
          "text": [
            "[1, 36, 3, 29, 19, 26, 39, 25, 15, 11]\n",
            "[1, 3, 11, 15, 19]\n",
            "[39, 36, 29, 26, 25]\n"
          ]
        }
      ]
    },
    {
      "cell_type": "code",
      "source": [
        "# reduce():\n",
        "# A commutative and associative binary operator.\n",
        "rdd1.reduce(lambda x,y: x+y)"
      ],
      "metadata": {
        "colab": {
          "base_uri": "https://localhost:8080/"
        },
        "id": "gAv7hIk_Xx2W",
        "outputId": "47810eae-ae69-48dd-ecd5-c8ab511e2ba5"
      },
      "execution_count": 26,
      "outputs": [
        {
          "output_type": "execute_result",
          "data": {
            "text/plain": [
              "204"
            ]
          },
          "metadata": {},
          "execution_count": 26
        }
      ]
    },
    {
      "cell_type": "code",
      "source": [
        "# reduceByKey():\n",
        "rdd_Rbk = sc.parallelize([(1,4),(7,10),(5,7),(1,12),(7,12),(7,1),(9,1),(7,4)], 2)\n",
        "print(rdd_Rbk.collect())\n",
        "rdd_Rbk.reduceByKey(lambda x,y: x+y).collect()\n",
        "\n",
        "\n",
        "# tabular visualization\n",
        "import pandas as pd\n",
        "Counter = pd.DataFrame({'Key': rdd_Rbk.keys().collect(),\n",
        "                 'Values': rdd_Rbk.values().collect()})\n",
        "Counter"
      ],
      "metadata": {
        "colab": {
          "base_uri": "https://localhost:8080/",
          "height": 318
        },
        "id": "HGRoQeVIXx7-",
        "outputId": "6e766f90-482c-43f0-d1e4-dd32badbb5e7"
      },
      "execution_count": 27,
      "outputs": [
        {
          "output_type": "stream",
          "name": "stdout",
          "text": [
            "[(1, 4), (7, 10), (5, 7), (1, 12), (7, 12), (7, 1), (9, 1), (7, 4)]\n"
          ]
        },
        {
          "output_type": "execute_result",
          "data": {
            "text/plain": [
              "   Key  Values\n",
              "0    1       4\n",
              "1    7      10\n",
              "2    5       7\n",
              "3    1      12\n",
              "4    7      12\n",
              "5    7       1\n",
              "6    9       1\n",
              "7    7       4"
            ],
            "text/html": [
              "\n",
              "  <div id=\"df-7013c30b-92dd-470d-b9b3-b19f96536259\">\n",
              "    <div class=\"colab-df-container\">\n",
              "      <div>\n",
              "<style scoped>\n",
              "    .dataframe tbody tr th:only-of-type {\n",
              "        vertical-align: middle;\n",
              "    }\n",
              "\n",
              "    .dataframe tbody tr th {\n",
              "        vertical-align: top;\n",
              "    }\n",
              "\n",
              "    .dataframe thead th {\n",
              "        text-align: right;\n",
              "    }\n",
              "</style>\n",
              "<table border=\"1\" class=\"dataframe\">\n",
              "  <thead>\n",
              "    <tr style=\"text-align: right;\">\n",
              "      <th></th>\n",
              "      <th>Key</th>\n",
              "      <th>Values</th>\n",
              "    </tr>\n",
              "  </thead>\n",
              "  <tbody>\n",
              "    <tr>\n",
              "      <th>0</th>\n",
              "      <td>1</td>\n",
              "      <td>4</td>\n",
              "    </tr>\n",
              "    <tr>\n",
              "      <th>1</th>\n",
              "      <td>7</td>\n",
              "      <td>10</td>\n",
              "    </tr>\n",
              "    <tr>\n",
              "      <th>2</th>\n",
              "      <td>5</td>\n",
              "      <td>7</td>\n",
              "    </tr>\n",
              "    <tr>\n",
              "      <th>3</th>\n",
              "      <td>1</td>\n",
              "      <td>12</td>\n",
              "    </tr>\n",
              "    <tr>\n",
              "      <th>4</th>\n",
              "      <td>7</td>\n",
              "      <td>12</td>\n",
              "    </tr>\n",
              "    <tr>\n",
              "      <th>5</th>\n",
              "      <td>7</td>\n",
              "      <td>1</td>\n",
              "    </tr>\n",
              "    <tr>\n",
              "      <th>6</th>\n",
              "      <td>9</td>\n",
              "      <td>1</td>\n",
              "    </tr>\n",
              "    <tr>\n",
              "      <th>7</th>\n",
              "      <td>7</td>\n",
              "      <td>4</td>\n",
              "    </tr>\n",
              "  </tbody>\n",
              "</table>\n",
              "</div>\n",
              "      <button class=\"colab-df-convert\" onclick=\"convertToInteractive('df-7013c30b-92dd-470d-b9b3-b19f96536259')\"\n",
              "              title=\"Convert this dataframe to an interactive table.\"\n",
              "              style=\"display:none;\">\n",
              "        \n",
              "  <svg xmlns=\"http://www.w3.org/2000/svg\" height=\"24px\"viewBox=\"0 0 24 24\"\n",
              "       width=\"24px\">\n",
              "    <path d=\"M0 0h24v24H0V0z\" fill=\"none\"/>\n",
              "    <path d=\"M18.56 5.44l.94 2.06.94-2.06 2.06-.94-2.06-.94-.94-2.06-.94 2.06-2.06.94zm-11 1L8.5 8.5l.94-2.06 2.06-.94-2.06-.94L8.5 2.5l-.94 2.06-2.06.94zm10 10l.94 2.06.94-2.06 2.06-.94-2.06-.94-.94-2.06-.94 2.06-2.06.94z\"/><path d=\"M17.41 7.96l-1.37-1.37c-.4-.4-.92-.59-1.43-.59-.52 0-1.04.2-1.43.59L10.3 9.45l-7.72 7.72c-.78.78-.78 2.05 0 2.83L4 21.41c.39.39.9.59 1.41.59.51 0 1.02-.2 1.41-.59l7.78-7.78 2.81-2.81c.8-.78.8-2.07 0-2.86zM5.41 20L4 18.59l7.72-7.72 1.47 1.35L5.41 20z\"/>\n",
              "  </svg>\n",
              "      </button>\n",
              "      \n",
              "  <style>\n",
              "    .colab-df-container {\n",
              "      display:flex;\n",
              "      flex-wrap:wrap;\n",
              "      gap: 12px;\n",
              "    }\n",
              "\n",
              "    .colab-df-convert {\n",
              "      background-color: #E8F0FE;\n",
              "      border: none;\n",
              "      border-radius: 50%;\n",
              "      cursor: pointer;\n",
              "      display: none;\n",
              "      fill: #1967D2;\n",
              "      height: 32px;\n",
              "      padding: 0 0 0 0;\n",
              "      width: 32px;\n",
              "    }\n",
              "\n",
              "    .colab-df-convert:hover {\n",
              "      background-color: #E2EBFA;\n",
              "      box-shadow: 0px 1px 2px rgba(60, 64, 67, 0.3), 0px 1px 3px 1px rgba(60, 64, 67, 0.15);\n",
              "      fill: #174EA6;\n",
              "    }\n",
              "\n",
              "    [theme=dark] .colab-df-convert {\n",
              "      background-color: #3B4455;\n",
              "      fill: #D2E3FC;\n",
              "    }\n",
              "\n",
              "    [theme=dark] .colab-df-convert:hover {\n",
              "      background-color: #434B5C;\n",
              "      box-shadow: 0px 1px 3px 1px rgba(0, 0, 0, 0.15);\n",
              "      filter: drop-shadow(0px 1px 2px rgba(0, 0, 0, 0.3));\n",
              "      fill: #FFFFFF;\n",
              "    }\n",
              "  </style>\n",
              "\n",
              "      <script>\n",
              "        const buttonEl =\n",
              "          document.querySelector('#df-7013c30b-92dd-470d-b9b3-b19f96536259 button.colab-df-convert');\n",
              "        buttonEl.style.display =\n",
              "          google.colab.kernel.accessAllowed ? 'block' : 'none';\n",
              "\n",
              "        async function convertToInteractive(key) {\n",
              "          const element = document.querySelector('#df-7013c30b-92dd-470d-b9b3-b19f96536259');\n",
              "          const dataTable =\n",
              "            await google.colab.kernel.invokeFunction('convertToInteractive',\n",
              "                                                     [key], {});\n",
              "          if (!dataTable) return;\n",
              "\n",
              "          const docLinkHtml = 'Like what you see? Visit the ' +\n",
              "            '<a target=\"_blank\" href=https://colab.research.google.com/notebooks/data_table.ipynb>data table notebook</a>'\n",
              "            + ' to learn more about interactive tables.';\n",
              "          element.innerHTML = '';\n",
              "          dataTable['output_type'] = 'display_data';\n",
              "          await google.colab.output.renderOutput(dataTable, element);\n",
              "          const docLink = document.createElement('div');\n",
              "          docLink.innerHTML = docLinkHtml;\n",
              "          element.appendChild(docLink);\n",
              "        }\n",
              "      </script>\n",
              "    </div>\n",
              "  </div>\n",
              "  "
            ]
          },
          "metadata": {},
          "execution_count": 27
        }
      ]
    },
    {
      "cell_type": "code",
      "source": [
        "# sortByKey():\n",
        "rdd_Rbk.reduceByKey(lambda x,y: x+y).sortByKey().collect()"
      ],
      "metadata": {
        "colab": {
          "base_uri": "https://localhost:8080/"
        },
        "id": "JM14bCP3XyB7",
        "outputId": "64e677f4-d159-4fc0-b271-dea30a785c97"
      },
      "execution_count": 29,
      "outputs": [
        {
          "output_type": "execute_result",
          "data": {
            "text/plain": [
              "[(1, 16), (5, 7), (7, 27), (9, 1)]"
            ]
          },
          "metadata": {},
          "execution_count": 29
        }
      ]
    },
    {
      "cell_type": "code",
      "source": [
        "# countByKey()\n",
        "rdd_Rbk.countByKey()\n",
        "rdd_Rbk.countByKey().items()\n",
        "sorted(rdd_Rbk.countByKey())\n",
        "sorted(rdd_Rbk.countByKey().items())"
      ],
      "metadata": {
        "colab": {
          "base_uri": "https://localhost:8080/"
        },
        "id": "r30kL7URXyIP",
        "outputId": "ee282697-16da-487e-d992-57e3e5708c0b"
      },
      "execution_count": 30,
      "outputs": [
        {
          "output_type": "execute_result",
          "data": {
            "text/plain": [
              "[(1, 2), (5, 1), (7, 4), (9, 1)]"
            ]
          },
          "metadata": {},
          "execution_count": 30
        }
      ]
    },
    {
      "cell_type": "code",
      "source": [
        "# groupByKey():\n",
        "rdd_group = rdd_Rbk.groupByKey() # or assign a partition 4\n",
        "rdd_group.getNumPartitions()\n",
        "\n",
        "rdd_group.collect() # it executes at driver node, not recommended\n",
        "\n",
        "for item in rdd_group.collect():\n",
        "  print(item[0], [value for value in item[1]])"
      ],
      "metadata": {
        "colab": {
          "base_uri": "https://localhost:8080/"
        },
        "id": "wEzKdxQ4XyOe",
        "outputId": "514ec5aa-2e11-43e6-86ea-fbbf0f981506"
      },
      "execution_count": 31,
      "outputs": [
        {
          "output_type": "stream",
          "name": "stdout",
          "text": [
            "1 [4, 12]\n",
            "7 [10, 12, 1, 4]\n",
            "5 [7]\n",
            "9 [1]\n"
          ]
        }
      ]
    },
    {
      "cell_type": "code",
      "source": [
        "# lookup(key):\n",
        "rdd_Rbk.lookup(7)"
      ],
      "metadata": {
        "colab": {
          "base_uri": "https://localhost:8080/"
        },
        "id": "6ZRxwfbnXyWp",
        "outputId": "c3397495-b0f9-46c9-f16b-008765977f7e"
      },
      "execution_count": 32,
      "outputs": [
        {
          "output_type": "execute_result",
          "data": {
            "text/plain": [
              "[10, 12, 1, 4]"
            ]
          },
          "metadata": {},
          "execution_count": 32
        }
      ]
    },
    {
      "cell_type": "code",
      "source": [
        "# cache:\n",
        "# By default, each transformed RDD may be recomputed each time you run an action on it.\n",
        "# However, you may also persist an RDD in memory using the persist (or cache) method,\n",
        "# in which case Spark will keep the elements around on the cluster for much faster access the next time you query it.\n",
        "\n",
        "rdd_Rbk.persist() # OR rdd_Rbk.cache()"
      ],
      "metadata": {
        "colab": {
          "base_uri": "https://localhost:8080/"
        },
        "id": "njEDAJqMXydZ",
        "outputId": "dbe1b6f8-52d9-4887-98f5-1f1e12467dd1"
      },
      "execution_count": 33,
      "outputs": [
        {
          "output_type": "execute_result",
          "data": {
            "text/plain": [
              "ParallelCollectionRDD[48] at readRDDFromFile at PythonRDD.scala:274"
            ]
          },
          "metadata": {},
          "execution_count": 33
        }
      ]
    },
    {
      "cell_type": "code",
      "source": [
        "# Persistence (https://spark.apache.org/docs/latest/rdd-programming-guide.html#rdd-persistence)\n",
        "from pyspark import StorageLevel\n",
        "rdd1.persist(StorageLevel.MEMORY_AND_DISK)"
      ],
      "metadata": {
        "colab": {
          "base_uri": "https://localhost:8080/"
        },
        "id": "0konIn5tYcTo",
        "outputId": "64f68d07-306b-49fe-b8c3-ae29593384b2"
      },
      "execution_count": 34,
      "outputs": [
        {
          "output_type": "execute_result",
          "data": {
            "text/plain": [
              "ParallelCollectionRDD[0] at readRDDFromFile at PythonRDD.scala:274"
            ]
          },
          "metadata": {},
          "execution_count": 34
        }
      ]
    },
    {
      "cell_type": "markdown",
      "source": [
        "# New Section"
      ],
      "metadata": {
        "id": "c9QBfijN-BDM"
      }
    }
  ]
}